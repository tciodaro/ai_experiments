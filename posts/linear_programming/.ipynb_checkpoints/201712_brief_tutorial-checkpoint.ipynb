{
 "cells": [
  {
   "cell_type": "markdown",
   "metadata": {},
   "source": [
    "# Introduction "
   ]
  },
  {
   "cell_type": "markdown",
   "metadata": {},
   "source": [
    "Linear programming is an optimization technique used to find the maximum/minimum value of a mathematical model, whose constraints can be represented as a set of linear equations. Many algorithms were developed to solve linear mathematical problems. The first known algorithm dates batk to Fourier, but the former linear programming modeling of a problem was just introduced during the World War 2. And only after the war that the first powerfull algorithm to solve linear programming models was developed. The simplex algorithm reduces the number of possible solutions that must be checked, which would be impossible to evaluate in most of the ordinary problems. The other major breakthrough was the deveopment of the interior point solving method. Finally, a special kind of linear programming problems is the integer programming, or integer linear programming, which has a set of algorithms devoted to solve this type of problems, like the cutting-plane and branch and cut methods. \n",
    "\n",
    "Most of the current algorithms to solve linear programming models are derived from:\n",
    "\n",
    "- Basis exchange\n",
    "\n",
    "- Interior point\n",
    "\n",
    "There are also problems that cannot be modelled considering linear programming like, obviously, non-linear problems, dynamic problems and others.\n",
    "\n",
    "This post intends to show how to use linear programming to solve the Antenna Placement problem, which was introduced in this <a href=\"https://github.com/tciodaro/ai_experiments/blob/http_version/posts/swarm_intelligence/201712_pso_antenna.ipynb\">post</a>, and how to solve it using the available libraries in operation research (th or-tools is gonna be used).\n",
    "\n",
    "[1] Stephen Boyd and Lieven Vandenbergue, Convex Optimization, Cambridge Universiy Press, 2004.\n",
    "\n",
    "[2] Andreas Antoniou and Wu-Sheng Lu, Practical Optimization: Algorithms and Engineering Applications, Springer, 2007.\n",
    "\n",
    "[3] https://github.com/google/or-tools\n"
   ]
  },
  {
   "cell_type": "markdown",
   "metadata": {},
   "source": [
    "# Problem "
   ]
  },
  {
   "cell_type": "code",
   "execution_count": null,
   "metadata": {
    "collapsed": true
   },
   "outputs": [],
   "source": []
  },
  {
   "cell_type": "markdown",
   "metadata": {},
   "source": [
    "# Solution "
   ]
  },
  {
   "cell_type": "code",
   "execution_count": null,
   "metadata": {
    "collapsed": true
   },
   "outputs": [],
   "source": []
  },
  {
   "cell_type": "markdown",
   "metadata": {},
   "source": [
    "# Implementation"
   ]
  },
  {
   "cell_type": "code",
   "execution_count": null,
   "metadata": {
    "collapsed": true
   },
   "outputs": [],
   "source": []
  },
  {
   "cell_type": "markdown",
   "metadata": {},
   "source": [
    "# Final Remarks "
   ]
  },
  {
   "cell_type": "code",
   "execution_count": null,
   "metadata": {
    "collapsed": true
   },
   "outputs": [],
   "source": []
  }
 ],
 "metadata": {
  "kernelspec": {
   "display_name": "Python 3",
   "language": "python",
   "name": "python3"
  },
  "language_info": {
   "codemirror_mode": {
    "name": "ipython",
    "version": 3
   },
   "file_extension": ".py",
   "mimetype": "text/x-python",
   "name": "python",
   "nbconvert_exporter": "python",
   "pygments_lexer": "ipython3",
   "version": "3.6.3"
  }
 },
 "nbformat": 4,
 "nbformat_minor": 2
}
