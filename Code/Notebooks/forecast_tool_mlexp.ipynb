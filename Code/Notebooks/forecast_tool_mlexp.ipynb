{
 "cells": [
  {
   "cell_type": "code",
   "execution_count": 1,
   "metadata": {},
   "outputs": [],
   "source": [
    "BASEDIR = 'C:/Users/BZ241WX/Projects/Lab/External/'\n",
    "\n",
    "import warnings\n",
    "warnings.filterwarnings('ignore')\n",
    "\n",
    "import matplotlib.pyplot as plt\n",
    "import pandas\n",
    "\n",
    "from sklearn import metrics\n",
    "import numpy as np\n",
    "import os\n",
    "from fbprophet import Prophet\n",
    "\n",
    "\n",
    "\n",
    "\n",
    "pandas.plotting.register_matplotlib_converters()\n",
    "\n",
    "datapath = '../../Data/TimeSeries/retail_weekly_data.csv'\n",
    "\n",
    "\n",
    "min_history_date = '2010-01-01'\n",
    "n_test = 8\n",
    "n_forecast = 8\n",
    "seasonal_periods = 12\n",
    "target_col = 'Weekly_Sales'\n",
    "forecast_col = 'forecast'\n",
    "time_col = 'Date'\n",
    "dfu_col  = 'dfu'\n",
    "time_format = '%Y-%m-%d'\n",
    "grain_cols = ['Store', ]\n",
    "exog_cols = ['IsHoliday', 'Temperature','Fuel_Price', 'MarkDown1',\n",
    "             'MarkDown2', 'MarkDown3', 'MarkDown4','MarkDown5',\n",
    "             'CPI', 'Unemployment',  'Size']\n",
    "\n",
    "drop_cols=['Type','Dept']\n",
    "frequency = 'MS'\n",
    "\n",
    "\n",
    "\n",
    "max_intermittency = 0.2\n",
    "min_length       = 48\n",
    "min_completeness = 0.75\n",
    "max_select_dfus  = 1\n",
    "\n",
    "random_seed = 2"
   ]
  },
  {
   "cell_type": "markdown",
   "metadata": {},
   "source": [
    "# Load Data "
   ]
  },
  {
   "cell_type": "code",
   "execution_count": 2,
   "metadata": {},
   "outputs": [
    {
     "name": "stdout",
     "output_type": "stream",
     "text": [
      "data: (59000, 15)\n",
      "cols: Index(['Store', 'Date', 'Weekly_Sales', 'IsHoliday', 'Temperature',\n",
      "       'Fuel_Price', 'MarkDown1', 'MarkDown2', 'MarkDown3', 'MarkDown4',\n",
      "       'MarkDown5', 'CPI', 'Unemployment', 'Size', 'dfu'],\n",
      "      dtype='object')\n"
     ]
    }
   ],
   "source": [
    "df = pandas.read_csv(datapath, sep=';')\n",
    "\n",
    "df[dfu_col] = df[grain_cols].apply(lambda x: 'StoreDept_'+'-'.join([str(y) for y in x]), axis=1)\n",
    "df = df.drop(drop_cols, axis=1)\n",
    "df[time_col] = pandas.to_datetime(df[time_col], format=time_format)\n",
    "\n",
    "df = df[df[time_col] >= min_history_date]\n",
    "\n",
    "print('data:', df.shape)\n",
    "print('cols:', df.columns)"
   ]
  },
  {
   "cell_type": "markdown",
   "metadata": {},
   "source": [
    "# Series Metrics"
   ]
  },
  {
   "cell_type": "code",
   "execution_count": 3,
   "metadata": {},
   "outputs": [
    {
     "data": {
      "text/html": [
       "<div>\n",
       "<style scoped>\n",
       "    .dataframe tbody tr th:only-of-type {\n",
       "        vertical-align: middle;\n",
       "    }\n",
       "\n",
       "    .dataframe tbody tr th {\n",
       "        vertical-align: top;\n",
       "    }\n",
       "\n",
       "    .dataframe thead th {\n",
       "        text-align: right;\n",
       "    }\n",
       "</style>\n",
       "<table border=\"1\" class=\"dataframe\">\n",
       "  <thead>\n",
       "    <tr style=\"text-align: right;\">\n",
       "      <th></th>\n",
       "      <th>dfu</th>\n",
       "      <th>intermittency</th>\n",
       "      <th>completeness</th>\n",
       "      <th>length</th>\n",
       "    </tr>\n",
       "  </thead>\n",
       "  <tbody>\n",
       "    <tr>\n",
       "      <th>0</th>\n",
       "      <td>StoreDept_1</td>\n",
       "      <td>0.000293</td>\n",
       "      <td>1.0</td>\n",
       "      <td>10244.0</td>\n",
       "    </tr>\n",
       "    <tr>\n",
       "      <th>1</th>\n",
       "      <td>StoreDept_2</td>\n",
       "      <td>0.000195</td>\n",
       "      <td>1.0</td>\n",
       "      <td>10238.0</td>\n",
       "    </tr>\n",
       "    <tr>\n",
       "      <th>2</th>\n",
       "      <td>StoreDept_3</td>\n",
       "      <td>0.000111</td>\n",
       "      <td>1.0</td>\n",
       "      <td>9036.0</td>\n",
       "    </tr>\n",
       "    <tr>\n",
       "      <th>5</th>\n",
       "      <td>StoreDept_6</td>\n",
       "      <td>0.000098</td>\n",
       "      <td>1.0</td>\n",
       "      <td>10211.0</td>\n",
       "    </tr>\n",
       "    <tr>\n",
       "      <th>3</th>\n",
       "      <td>StoreDept_4</td>\n",
       "      <td>0.000000</td>\n",
       "      <td>1.0</td>\n",
       "      <td>10272.0</td>\n",
       "    </tr>\n",
       "  </tbody>\n",
       "</table>\n",
       "</div>"
      ],
      "text/plain": [
       "           dfu  intermittency  completeness   length\n",
       "0  StoreDept_1       0.000293           1.0  10244.0\n",
       "1  StoreDept_2       0.000195           1.0  10238.0\n",
       "2  StoreDept_3       0.000111           1.0   9036.0\n",
       "5  StoreDept_6       0.000098           1.0  10211.0\n",
       "3  StoreDept_4       0.000000           1.0  10272.0"
      ]
     },
     "execution_count": 3,
     "metadata": {},
     "output_type": "execute_result"
    }
   ],
   "source": [
    "def intermittency(X):\n",
    "    return (X==0).sum() / X.shape[0]\n",
    "\n",
    "def completeness(X):\n",
    "    return 1 - X.isnull().sum() / X.shape[0]\n",
    "\n",
    "def length(X):\n",
    "    return X.shape[0]\n",
    "\n",
    "\n",
    "df_metrics = df.groupby(dfu_col)[target_col].agg([intermittency, completeness, length]).reset_index()\n",
    "\n",
    "df_metrics.sort_values(['completeness','intermittency','length'], ascending=False).head()"
   ]
  },
  {
   "cell_type": "markdown",
   "metadata": {},
   "source": [
    "# Select Series "
   ]
  },
  {
   "cell_type": "code",
   "execution_count": 4,
   "metadata": {},
   "outputs": [
    {
     "name": "stdout",
     "output_type": "stream",
     "text": [
      "(10238, 15)\n"
     ]
    }
   ],
   "source": [
    "idx = ((df_metrics.intermittency <= max_intermittency) &\n",
    "       (df_metrics.length        >= min_length) &\n",
    "       (df_metrics.completeness  >= min_completeness))\n",
    "\n",
    "dfu_list = (df_metrics[idx].sort_values(['completeness','intermittency','length'])\n",
    "                           .dfu\n",
    "                           .sample(max_select_dfus, random_state=random_seed)\n",
    "                           .values)\n",
    "\n",
    "data = df[df.dfu.isin(dfu_list)].copy()\n",
    "print(data.shape)"
   ]
  },
  {
   "cell_type": "markdown",
   "metadata": {},
   "source": [
    "# Avoid NaN "
   ]
  },
  {
   "cell_type": "code",
   "execution_count": 5,
   "metadata": {},
   "outputs": [
    {
     "data": {
      "text/plain": [
       "Store           0\n",
       "Date            0\n",
       "Weekly_Sales    0\n",
       "IsHoliday       0\n",
       "Temperature     0\n",
       "Fuel_Price      0\n",
       "MarkDown1       0\n",
       "MarkDown2       0\n",
       "MarkDown3       0\n",
       "MarkDown4       0\n",
       "MarkDown5       0\n",
       "CPI             0\n",
       "Unemployment    0\n",
       "Size            0\n",
       "dfu             0\n",
       "dtype: int64"
      ]
     },
     "execution_count": 5,
     "metadata": {},
     "output_type": "execute_result"
    }
   ],
   "source": [
    "data.fillna(0, inplace=True)\n",
    "data.isnull().sum()"
   ]
  },
  {
   "cell_type": "code",
   "execution_count": 6,
   "metadata": {},
   "outputs": [
    {
     "data": {
      "text/plain": [
       "array(['StoreDept_2'], dtype=object)"
      ]
     },
     "execution_count": 6,
     "metadata": {},
     "output_type": "execute_result"
    }
   ],
   "source": [
    "data.dfu.unique()"
   ]
  },
  {
   "cell_type": "markdown",
   "metadata": {},
   "source": [
    "# Resolution Change "
   ]
  },
  {
   "cell_type": "code",
   "execution_count": 7,
   "metadata": {},
   "outputs": [
    {
     "name": "stderr",
     "output_type": "stream",
     "text": [
      "INFO:numexpr.utils:NumExpr defaulting to 8 threads.\n"
     ]
    }
   ],
   "source": [
    "exog_agg = {\n",
    "    'Weekly_Sales': 'sum',\n",
    "    'IsHoliday': 'sum',\n",
    "    'Temperature': 'mean',\n",
    "    'Fuel_Price': 'mean',\n",
    "    'MarkDown1': 'sum',\n",
    "    'MarkDown2': 'sum',\n",
    "    'MarkDown3': 'sum',\n",
    "    'MarkDown4': 'sum',\n",
    "    'MarkDown5': 'sum',\n",
    "    'CPI': 'mean',\n",
    "    'Unemployment': 'mean',\n",
    "    'Size': 'mean',\n",
    "}\n",
    "\n",
    "\n",
    "data[time_col] = pandas.to_datetime(data[time_col].dt.year.astype(str) + '-' + \\\n",
    "                                    data[time_col].dt.month.astype(str) + '-01',\n",
    "                                    format='%Y-%m-%d')\n",
    "\n",
    "agg_data = data.groupby([dfu_col, time_col], as_index=False).agg(exog_agg)\n"
   ]
  },
  {
   "cell_type": "code",
   "execution_count": 8,
   "metadata": {},
   "outputs": [
    {
     "data": {
      "text/plain": [
       "<matplotlib.axes._subplots.AxesSubplot at 0x1aa0608d148>"
      ]
     },
     "execution_count": 8,
     "metadata": {},
     "output_type": "execute_result"
    },
    {
     "data": {
      "image/png": "[encoded data removed]",
      "text/plain": [
       "<Figure size 432x288 with 1 Axes>"
      ]
     },
     "metadata": {
      "needs_background": "light"
     },
     "output_type": "display_data"
    }
   ],
   "source": [
    "# data.Weekly_Sales.plot()\n",
    "agg_data.Weekly_Sales.plot()"
   ]
  },
  {
   "cell_type": "code",
   "execution_count": 9,
   "metadata": {},
   "outputs": [
    {
     "data": {
      "text/plain": [
       "(33, 14)"
      ]
     },
     "execution_count": 9,
     "metadata": {},
     "output_type": "execute_result"
    }
   ],
   "source": [
    "data.shape\n",
    "agg_data.shape"
   ]
  },
  {
   "cell_type": "markdown",
   "metadata": {},
   "source": [
    "# Train / Test"
   ]
  },
  {
   "cell_type": "code",
   "execution_count": 10,
   "metadata": {},
   "outputs": [
    {
     "name": "stdout",
     "output_type": "stream",
     "text": [
      "Train: (25, 15)\n",
      "Test: (8, 15)\n"
     ]
    }
   ],
   "source": [
    "def split_last_n_by_grain(df, ntest, time_column_name, grain_column_names):\n",
    "    \"\"\"Group df by grain and split on last n rows for each group.\"\"\"\n",
    "    df_grouped = (df.sort_values(time_column_name) # Sort by ascending time\n",
    "                  .groupby(grain_column_names, group_keys=False))\n",
    "    df_head = df_grouped.apply(lambda dfg: dfg.iloc[:-ntest])\n",
    "    df_tail = df_grouped.apply(lambda dfg: dfg.iloc[-ntest:])\n",
    "    return df_head, df_tail\n",
    "\n",
    "\n",
    "df_train, df_test = split_last_n_by_grain(agg_data, n_test, time_col, [dfu_col])\n",
    "\n",
    "\n",
    "df_train['category'] = 'train'\n",
    "df_test['category'] = 'test'\n",
    "\n",
    "batch_result = pandas.concat([df_train, df_test])\n",
    "\n",
    "print('Train:', df_train.shape)\n",
    "print('Test:', df_test.shape)"
   ]
  },
  {
   "cell_type": "markdown",
   "metadata": {},
   "source": [
    "# Statistical Forecast Setup"
   ]
  },
  {
   "cell_type": "code",
   "execution_count": 11,
   "metadata": {},
   "outputs": [
    {
     "name": "stderr",
     "output_type": "stream",
     "text": [
      "INFO:fbprophet:Disabling weekly seasonality. Run prophet with weekly_seasonality=True to override this.\n",
      "INFO:fbprophet:Disabling daily seasonality. Run prophet with daily_seasonality=True to override this.\n",
      "INFO:fbprophet:n_changepoints greater than number of observations.Using 19.\n"
     ]
    }
   ],
   "source": [
    "growth = 'linear'\n",
    "# changepoint_range = 1\n",
    "# changepoint_prior_scale = 0.5\n",
    "yearly_seasonality = 12\n",
    "# weekly_seasonality = False\n",
    "# daily_seasonality = False\n",
    "# seasonality_mode = 'additive' # 'multiplicative'\n",
    "# seasonality_prior_scale = 1\n",
    "iterations = 100\n",
    "confidence_interval = .95\n",
    "\n",
    "\n",
    "\n",
    "Y = df_train[[time_col, target_col]].copy()\n",
    "Y.columns = ['ds', 'y']\n",
    "model = Prophet(\n",
    "    growth=growth,\n",
    "#     changepoint_range=changepoint_range,\n",
    "#     yearly_seasonality=yearly_seasonality,\n",
    "#     weekly_seasonality=weekly_seasonality,\n",
    "#     daily_seasonality=daily_seasonality,\n",
    "#     seasonality_mode=seasonality_mode,\n",
    "#     changepoint_prior_scale=changepoint_prior_scale,\n",
    "#     seasonality_prior_scale=seasonality_prior_scale,\n",
    "    interval_width=confidence_interval,\n",
    ")\n",
    "\n",
    "model = model.fit(Y, iter=iterations)\n",
    "\n",
    "\n",
    "forecast_data =model.make_future_dataframe(\n",
    "            periods=n_test,\n",
    "            freq=frequency,\n",
    "            include_history=True\n",
    "            )\n",
    "\n",
    "df_forecast = model.predict(forecast_data)\n",
    "forecast     = df_forecast.yhat.rename('forecast')\n",
    "forecast_low  =  df_forecast.yhat_lower.rename('forecast_lo')\n",
    "forecast_up   =  df_forecast.yhat_upper.rename('forecast_up')\n",
    "\n",
    "batch_result[forecast_col] = forecast.values\n",
    "batch_result[forecast_col+'_up'] = forecast_up.values\n",
    "batch_result[forecast_col+'_lo'] = forecast_low.values"
   ]
  },
  {
   "cell_type": "code",
   "execution_count": 12,
   "metadata": {},
   "outputs": [
    {
     "data": {
      "image/png": "[encoded data removed]",
      "text/plain": [
       "<Figure size 720x432 with 1 Axes>"
      ]
     },
     "metadata": {},
     "output_type": "display_data"
    }
   ],
   "source": [
    "from fbprophet.plot import add_changepoints_to_plot\n",
    "fig = model.plot(df_forecast)\n",
    "a = add_changepoints_to_plot(fig.gca(), model, df_forecast)\n"
   ]
  },
  {
   "cell_type": "code",
   "execution_count": 13,
   "metadata": {},
   "outputs": [
    {
     "data": {
      "image/png": "[encoded data removed]",
      "text/plain": [
       "<Figure size 648x432 with 2 Axes>"
      ]
     },
     "metadata": {},
     "output_type": "display_data"
    }
   ],
   "source": [
    "model.plot_components(df_forecast);"
   ]
  },
  {
   "cell_type": "markdown",
   "metadata": {},
   "source": [
    "# Plot  "
   ]
  },
  {
   "cell_type": "code",
   "execution_count": 14,
   "metadata": {},
   "outputs": [
    {
     "data": {
      "image/png": "[encoded data removed]",
      "text/plain": [
       "<Figure size 864x288 with 1 Axes>"
      ]
     },
     "metadata": {
      "needs_background": "light"
     },
     "output_type": "display_data"
    }
   ],
   "source": [
    "plt.figure(figsize=(12,4))\n",
    "\n",
    "complete_data = batch_result.copy()\n",
    "\n",
    "shade_color = '#aaaaaa'\n",
    "\n",
    "complete_data.groupby(time_col)[target_col].sum().plot(label='Historico')\n",
    "(complete_data[complete_data.category=='train']\n",
    "              .groupby(time_col)[forecast_col].sum()\n",
    "              .plot(color = 'k', ls='-', label='Prophet Train'))\n",
    "\n",
    "(complete_data[complete_data.category=='test']\n",
    "              .groupby(time_col)[forecast_col].sum()\n",
    "              .plot(color = 'k', ls='--', label='Prophet Test'))\n",
    "    \n",
    "plt.legend()\n",
    "plt.grid(True)\n",
    "\n",
    "plt.tight_layout()"
   ]
  },
  {
   "cell_type": "markdown",
   "metadata": {},
   "source": [
    "# ML Model "
   ]
  },
  {
   "cell_type": "markdown",
   "metadata": {},
   "source": [
    "## Create Target Data "
   ]
  },
  {
   "cell_type": "code",
   "execution_count": 15,
   "metadata": {},
   "outputs": [
    {
     "ename": "KeyError",
     "evalue": "'forecast_data'",
     "output_type": "error",
     "traceback": [
      "\u001b[1;31m---------------------------------------------------------------------------\u001b[0m",
      "\u001b[1;31mKeyError\u001b[0m                                  Traceback (most recent call last)",
      "\u001b[1;32m~\\AppData\\Local\\Continuum\\anaconda3\\lib\\site-packages\\pandas\\core\\indexes\\base.py\u001b[0m in \u001b[0;36mget_loc\u001b[1;34m(self, key, method, tolerance)\u001b[0m\n\u001b[0;32m   3077\u001b[0m             \u001b[1;32mtry\u001b[0m\u001b[1;33m:\u001b[0m\u001b[1;33m\u001b[0m\u001b[1;33m\u001b[0m\u001b[0m\n\u001b[1;32m-> 3078\u001b[1;33m                 \u001b[1;32mreturn\u001b[0m \u001b[0mself\u001b[0m\u001b[1;33m.\u001b[0m\u001b[0m_engine\u001b[0m\u001b[1;33m.\u001b[0m\u001b[0mget_loc\u001b[0m\u001b[1;33m(\u001b[0m\u001b[0mkey\u001b[0m\u001b[1;33m)\u001b[0m\u001b[1;33m\u001b[0m\u001b[1;33m\u001b[0m\u001b[0m\n\u001b[0m\u001b[0;32m   3079\u001b[0m             \u001b[1;32mexcept\u001b[0m \u001b[0mKeyError\u001b[0m\u001b[1;33m:\u001b[0m\u001b[1;33m\u001b[0m\u001b[1;33m\u001b[0m\u001b[0m\n",
      "\u001b[1;32mpandas\\_libs\\index.pyx\u001b[0m in \u001b[0;36mpandas._libs.index.IndexEngine.get_loc\u001b[1;34m()\u001b[0m\n",
      "\u001b[1;32mpandas\\_libs\\index.pyx\u001b[0m in \u001b[0;36mpandas._libs.index.IndexEngine.get_loc\u001b[1;34m()\u001b[0m\n",
      "\u001b[1;32mpandas\\_libs\\hashtable_class_helper.pxi\u001b[0m in \u001b[0;36mpandas._libs.hashtable.PyObjectHashTable.get_item\u001b[1;34m()\u001b[0m\n",
      "\u001b[1;32mpandas\\_libs\\hashtable_class_helper.pxi\u001b[0m in \u001b[0;36mpandas._libs.hashtable.PyObjectHashTable.get_item\u001b[1;34m()\u001b[0m\n",
      "\u001b[1;31mKeyError\u001b[0m: 'forecast_data'",
      "\nDuring handling of the above exception, another exception occurred:\n",
      "\u001b[1;31mKeyError\u001b[0m                                  Traceback (most recent call last)",
      "\u001b[1;32m<ipython-input-15-e47ddb9f7791>\u001b[0m in \u001b[0;36m<module>\u001b[1;34m\u001b[0m\n\u001b[0;32m      2\u001b[0m \u001b[1;33m\u001b[0m\u001b[0m\n\u001b[0;32m      3\u001b[0m \u001b[1;33m\u001b[0m\u001b[0m\n\u001b[1;32m----> 4\u001b[1;33m \u001b[0mml_data\u001b[0m \u001b[1;33m=\u001b[0m \u001b[0mbatch_result\u001b[0m\u001b[1;33m[\u001b[0m\u001b[1;34m'forecast_data'\u001b[0m\u001b[1;33m]\u001b[0m\u001b[1;33m.\u001b[0m\u001b[0mcopy\u001b[0m\u001b[1;33m(\u001b[0m\u001b[1;33m)\u001b[0m\u001b[1;33m\u001b[0m\u001b[1;33m\u001b[0m\u001b[0m\n\u001b[0m\u001b[0;32m      5\u001b[0m \u001b[0mml_target\u001b[0m \u001b[1;33m=\u001b[0m \u001b[1;34m'target'\u001b[0m\u001b[1;33m\u001b[0m\u001b[1;33m\u001b[0m\u001b[0m\n\u001b[0;32m      6\u001b[0m \u001b[0mml_data\u001b[0m\u001b[1;33m[\u001b[0m\u001b[1;34m'mes'\u001b[0m\u001b[1;33m]\u001b[0m \u001b[1;33m=\u001b[0m \u001b[0mml_data\u001b[0m\u001b[1;33m[\u001b[0m\u001b[0mtime_col\u001b[0m\u001b[1;33m]\u001b[0m\u001b[1;33m.\u001b[0m\u001b[0mdt\u001b[0m\u001b[1;33m.\u001b[0m\u001b[0mmonth\u001b[0m\u001b[1;33m\u001b[0m\u001b[1;33m\u001b[0m\u001b[0m\n",
      "\u001b[1;32m~\\AppData\\Local\\Continuum\\anaconda3\\lib\\site-packages\\pandas\\core\\frame.py\u001b[0m in \u001b[0;36m__getitem__\u001b[1;34m(self, key)\u001b[0m\n\u001b[0;32m   2686\u001b[0m             \u001b[1;32mreturn\u001b[0m \u001b[0mself\u001b[0m\u001b[1;33m.\u001b[0m\u001b[0m_getitem_multilevel\u001b[0m\u001b[1;33m(\u001b[0m\u001b[0mkey\u001b[0m\u001b[1;33m)\u001b[0m\u001b[1;33m\u001b[0m\u001b[1;33m\u001b[0m\u001b[0m\n\u001b[0;32m   2687\u001b[0m         \u001b[1;32melse\u001b[0m\u001b[1;33m:\u001b[0m\u001b[1;33m\u001b[0m\u001b[1;33m\u001b[0m\u001b[0m\n\u001b[1;32m-> 2688\u001b[1;33m             \u001b[1;32mreturn\u001b[0m \u001b[0mself\u001b[0m\u001b[1;33m.\u001b[0m\u001b[0m_getitem_column\u001b[0m\u001b[1;33m(\u001b[0m\u001b[0mkey\u001b[0m\u001b[1;33m)\u001b[0m\u001b[1;33m\u001b[0m\u001b[1;33m\u001b[0m\u001b[0m\n\u001b[0m\u001b[0;32m   2689\u001b[0m \u001b[1;33m\u001b[0m\u001b[0m\n\u001b[0;32m   2690\u001b[0m     \u001b[1;32mdef\u001b[0m \u001b[0m_getitem_column\u001b[0m\u001b[1;33m(\u001b[0m\u001b[0mself\u001b[0m\u001b[1;33m,\u001b[0m \u001b[0mkey\u001b[0m\u001b[1;33m)\u001b[0m\u001b[1;33m:\u001b[0m\u001b[1;33m\u001b[0m\u001b[1;33m\u001b[0m\u001b[0m\n",
      "\u001b[1;32m~\\AppData\\Local\\Continuum\\anaconda3\\lib\\site-packages\\pandas\\core\\frame.py\u001b[0m in \u001b[0;36m_getitem_column\u001b[1;34m(self, key)\u001b[0m\n\u001b[0;32m   2693\u001b[0m         \u001b[1;31m# get column\u001b[0m\u001b[1;33m\u001b[0m\u001b[1;33m\u001b[0m\u001b[1;33m\u001b[0m\u001b[0m\n\u001b[0;32m   2694\u001b[0m         \u001b[1;32mif\u001b[0m \u001b[0mself\u001b[0m\u001b[1;33m.\u001b[0m\u001b[0mcolumns\u001b[0m\u001b[1;33m.\u001b[0m\u001b[0mis_unique\u001b[0m\u001b[1;33m:\u001b[0m\u001b[1;33m\u001b[0m\u001b[1;33m\u001b[0m\u001b[0m\n\u001b[1;32m-> 2695\u001b[1;33m             \u001b[1;32mreturn\u001b[0m \u001b[0mself\u001b[0m\u001b[1;33m.\u001b[0m\u001b[0m_get_item_cache\u001b[0m\u001b[1;33m(\u001b[0m\u001b[0mkey\u001b[0m\u001b[1;33m)\u001b[0m\u001b[1;33m\u001b[0m\u001b[1;33m\u001b[0m\u001b[0m\n\u001b[0m\u001b[0;32m   2696\u001b[0m \u001b[1;33m\u001b[0m\u001b[0m\n\u001b[0;32m   2697\u001b[0m         \u001b[1;31m# duplicate columns & possible reduce dimensionality\u001b[0m\u001b[1;33m\u001b[0m\u001b[1;33m\u001b[0m\u001b[1;33m\u001b[0m\u001b[0m\n",
      "\u001b[1;32m~\\AppData\\Local\\Continuum\\anaconda3\\lib\\site-packages\\pandas\\core\\generic.py\u001b[0m in \u001b[0;36m_get_item_cache\u001b[1;34m(self, item)\u001b[0m\n\u001b[0;32m   2487\u001b[0m         \u001b[0mres\u001b[0m \u001b[1;33m=\u001b[0m \u001b[0mcache\u001b[0m\u001b[1;33m.\u001b[0m\u001b[0mget\u001b[0m\u001b[1;33m(\u001b[0m\u001b[0mitem\u001b[0m\u001b[1;33m)\u001b[0m\u001b[1;33m\u001b[0m\u001b[1;33m\u001b[0m\u001b[0m\n\u001b[0;32m   2488\u001b[0m         \u001b[1;32mif\u001b[0m \u001b[0mres\u001b[0m \u001b[1;32mis\u001b[0m \u001b[1;32mNone\u001b[0m\u001b[1;33m:\u001b[0m\u001b[1;33m\u001b[0m\u001b[1;33m\u001b[0m\u001b[0m\n\u001b[1;32m-> 2489\u001b[1;33m             \u001b[0mvalues\u001b[0m \u001b[1;33m=\u001b[0m \u001b[0mself\u001b[0m\u001b[1;33m.\u001b[0m\u001b[0m_data\u001b[0m\u001b[1;33m.\u001b[0m\u001b[0mget\u001b[0m\u001b[1;33m(\u001b[0m\u001b[0mitem\u001b[0m\u001b[1;33m)\u001b[0m\u001b[1;33m\u001b[0m\u001b[1;33m\u001b[0m\u001b[0m\n\u001b[0m\u001b[0;32m   2490\u001b[0m             \u001b[0mres\u001b[0m \u001b[1;33m=\u001b[0m \u001b[0mself\u001b[0m\u001b[1;33m.\u001b[0m\u001b[0m_box_item_values\u001b[0m\u001b[1;33m(\u001b[0m\u001b[0mitem\u001b[0m\u001b[1;33m,\u001b[0m \u001b[0mvalues\u001b[0m\u001b[1;33m)\u001b[0m\u001b[1;33m\u001b[0m\u001b[1;33m\u001b[0m\u001b[0m\n\u001b[0;32m   2491\u001b[0m             \u001b[0mcache\u001b[0m\u001b[1;33m[\u001b[0m\u001b[0mitem\u001b[0m\u001b[1;33m]\u001b[0m \u001b[1;33m=\u001b[0m \u001b[0mres\u001b[0m\u001b[1;33m\u001b[0m\u001b[1;33m\u001b[0m\u001b[0m\n",
      "\u001b[1;32m~\\AppData\\Local\\Continuum\\anaconda3\\lib\\site-packages\\pandas\\core\\internals.py\u001b[0m in \u001b[0;36mget\u001b[1;34m(self, item, fastpath)\u001b[0m\n\u001b[0;32m   4113\u001b[0m \u001b[1;33m\u001b[0m\u001b[0m\n\u001b[0;32m   4114\u001b[0m             \u001b[1;32mif\u001b[0m \u001b[1;32mnot\u001b[0m \u001b[0misna\u001b[0m\u001b[1;33m(\u001b[0m\u001b[0mitem\u001b[0m\u001b[1;33m)\u001b[0m\u001b[1;33m:\u001b[0m\u001b[1;33m\u001b[0m\u001b[1;33m\u001b[0m\u001b[0m\n\u001b[1;32m-> 4115\u001b[1;33m                 \u001b[0mloc\u001b[0m \u001b[1;33m=\u001b[0m \u001b[0mself\u001b[0m\u001b[1;33m.\u001b[0m\u001b[0mitems\u001b[0m\u001b[1;33m.\u001b[0m\u001b[0mget_loc\u001b[0m\u001b[1;33m(\u001b[0m\u001b[0mitem\u001b[0m\u001b[1;33m)\u001b[0m\u001b[1;33m\u001b[0m\u001b[1;33m\u001b[0m\u001b[0m\n\u001b[0m\u001b[0;32m   4116\u001b[0m             \u001b[1;32melse\u001b[0m\u001b[1;33m:\u001b[0m\u001b[1;33m\u001b[0m\u001b[1;33m\u001b[0m\u001b[0m\n\u001b[0;32m   4117\u001b[0m                 \u001b[0mindexer\u001b[0m \u001b[1;33m=\u001b[0m \u001b[0mnp\u001b[0m\u001b[1;33m.\u001b[0m\u001b[0marange\u001b[0m\u001b[1;33m(\u001b[0m\u001b[0mlen\u001b[0m\u001b[1;33m(\u001b[0m\u001b[0mself\u001b[0m\u001b[1;33m.\u001b[0m\u001b[0mitems\u001b[0m\u001b[1;33m)\u001b[0m\u001b[1;33m)\u001b[0m\u001b[1;33m[\u001b[0m\u001b[0misna\u001b[0m\u001b[1;33m(\u001b[0m\u001b[0mself\u001b[0m\u001b[1;33m.\u001b[0m\u001b[0mitems\u001b[0m\u001b[1;33m)\u001b[0m\u001b[1;33m]\u001b[0m\u001b[1;33m\u001b[0m\u001b[1;33m\u001b[0m\u001b[0m\n",
      "\u001b[1;32m~\\AppData\\Local\\Continuum\\anaconda3\\lib\\site-packages\\pandas\\core\\indexes\\base.py\u001b[0m in \u001b[0;36mget_loc\u001b[1;34m(self, key, method, tolerance)\u001b[0m\n\u001b[0;32m   3078\u001b[0m                 \u001b[1;32mreturn\u001b[0m \u001b[0mself\u001b[0m\u001b[1;33m.\u001b[0m\u001b[0m_engine\u001b[0m\u001b[1;33m.\u001b[0m\u001b[0mget_loc\u001b[0m\u001b[1;33m(\u001b[0m\u001b[0mkey\u001b[0m\u001b[1;33m)\u001b[0m\u001b[1;33m\u001b[0m\u001b[1;33m\u001b[0m\u001b[0m\n\u001b[0;32m   3079\u001b[0m             \u001b[1;32mexcept\u001b[0m \u001b[0mKeyError\u001b[0m\u001b[1;33m:\u001b[0m\u001b[1;33m\u001b[0m\u001b[1;33m\u001b[0m\u001b[0m\n\u001b[1;32m-> 3080\u001b[1;33m                 \u001b[1;32mreturn\u001b[0m \u001b[0mself\u001b[0m\u001b[1;33m.\u001b[0m\u001b[0m_engine\u001b[0m\u001b[1;33m.\u001b[0m\u001b[0mget_loc\u001b[0m\u001b[1;33m(\u001b[0m\u001b[0mself\u001b[0m\u001b[1;33m.\u001b[0m\u001b[0m_maybe_cast_indexer\u001b[0m\u001b[1;33m(\u001b[0m\u001b[0mkey\u001b[0m\u001b[1;33m)\u001b[0m\u001b[1;33m)\u001b[0m\u001b[1;33m\u001b[0m\u001b[1;33m\u001b[0m\u001b[0m\n\u001b[0m\u001b[0;32m   3081\u001b[0m \u001b[1;33m\u001b[0m\u001b[0m\n\u001b[0;32m   3082\u001b[0m         \u001b[0mindexer\u001b[0m \u001b[1;33m=\u001b[0m \u001b[0mself\u001b[0m\u001b[1;33m.\u001b[0m\u001b[0mget_indexer\u001b[0m\u001b[1;33m(\u001b[0m\u001b[1;33m[\u001b[0m\u001b[0mkey\u001b[0m\u001b[1;33m]\u001b[0m\u001b[1;33m,\u001b[0m \u001b[0mmethod\u001b[0m\u001b[1;33m=\u001b[0m\u001b[0mmethod\u001b[0m\u001b[1;33m,\u001b[0m \u001b[0mtolerance\u001b[0m\u001b[1;33m=\u001b[0m\u001b[0mtolerance\u001b[0m\u001b[1;33m)\u001b[0m\u001b[1;33m\u001b[0m\u001b[1;33m\u001b[0m\u001b[0m\n",
      "\u001b[1;32mpandas\\_libs\\index.pyx\u001b[0m in \u001b[0;36mpandas._libs.index.IndexEngine.get_loc\u001b[1;34m()\u001b[0m\n",
      "\u001b[1;32mpandas\\_libs\\index.pyx\u001b[0m in \u001b[0;36mpandas._libs.index.IndexEngine.get_loc\u001b[1;34m()\u001b[0m\n",
      "\u001b[1;32mpandas\\_libs\\hashtable_class_helper.pxi\u001b[0m in \u001b[0;36mpandas._libs.hashtable.PyObjectHashTable.get_item\u001b[1;34m()\u001b[0m\n",
      "\u001b[1;32mpandas\\_libs\\hashtable_class_helper.pxi\u001b[0m in \u001b[0;36mpandas._libs.hashtable.PyObjectHashTable.get_item\u001b[1;34m()\u001b[0m\n",
      "\u001b[1;31mKeyError\u001b[0m: 'forecast_data'"
     ]
    }
   ],
   "source": [
    "from statsmodels.tsa.tsatools import lagmat\n",
    "\n",
    "\n",
    "ml_data = batch_result['forecast_data'].copy()\n",
    "ml_target = 'target'\n",
    "ml_data['mes'] = ml_data[time_col].dt.month\n",
    "\n",
    "stats_forecast_cols = ['forecast_' + m for m in batch_result['score_data'].model_name.unique()]\n",
    "# ml_variables = exog_cols + stats_forecast_cols + [target_col]\n",
    "ml_variables = exog_cols + stats_forecast_cols + ['mes']\n",
    "# ml_variables = exog_cols \n",
    "\n",
    "\n",
    "# The value of the next period\n",
    "def lagged_variables(groups, nlags):\n",
    "    return lagmat(groups, maxlag = nlags, trim='forward', original='in', use_pandas=True)\n",
    "\n",
    "\n",
    "ml_data['residual'] = ml_data[target_col] - ml_data['forecast_fb-prophet']\n",
    "\n",
    "# ml_data[ml_target] = ml_data.groupby(dfu_col)['residual'].shift(-1)\n",
    "ml_data[ml_target] = ml_data.groupby(dfu_col)[target_col].shift(-1)\n",
    "ml_data[time_col] = ml_data.groupby(dfu_col)[time_col].shift(-1)\n",
    "ml_data.dropna(inplace=True, subset=[time_col, ml_target])\n",
    "\n",
    "# Create lagged features\n",
    "if True:\n",
    "    feature_data = ml_data.groupby(dfu_col)[ml_variables].apply(lagged_variables, nlags=2)\n",
    "    ml_variables = feature_data.columns.tolist()\n",
    "    for cname in [x for x in ml_variables if x not in ml_data.columns]:\n",
    "        ml_data[cname] = feature_data[cname].values\n",
    "    \n",
    "#     feature_data[dfu_col] = ml_data[dfu_col].copy()\n",
    "#     feature_data[ml_target] = ml_data[ml_target].copy()\n",
    "#     feature_data[time_col] = ml_data[time_col].copy()\n",
    "#     feature_data['category'] = ml_data['category'].copy()\n",
    "#     ml_data = feature_data.copy()\n",
    "\n",
    "\n",
    "# ml_data.head()\n",
    "# ml_data[['dfu','date','history','target']]"
   ]
  },
  {
   "cell_type": "markdown",
   "metadata": {},
   "source": [
    "# Split Train/Test "
   ]
  },
  {
   "cell_type": "code",
   "execution_count": null,
   "metadata": {},
   "outputs": [],
   "source": [
    "Xtrain = ml_data[ml_data.category == 'train'].set_index(time_col).copy()\n",
    "Xtest = ml_data[ml_data.category == 'test'].set_index(time_col).copy()\n",
    "\n",
    "Ytrain = Xtrain[ml_target]\n",
    "Ytest = Xtest[ml_target]\n",
    "\n",
    "dfuTrain = Xtrain[dfu_col].copy()\n",
    "Xtrain = Xtrain[ml_variables].copy()\n",
    "Xtest  = Xtest[ml_variables].copy()\n",
    "\n"
   ]
  },
  {
   "cell_type": "markdown",
   "metadata": {},
   "source": [
    "# Statistical Tests "
   ]
  },
  {
   "cell_type": "code",
   "execution_count": null,
   "metadata": {},
   "outputs": [],
   "source": [
    "from statsmodels.tsa.stattools import adfuller\n",
    "\n",
    "df_stat_test_list = []\n",
    "for vname in ml_variables:\n",
    "    adf_test = adfuller(ml_data[vname].dropna())\n",
    "    df_stat_test_list.append([vname, adf_test[0], adf_test[1]])\n",
    "\n",
    "df_stat_test = pandas.DataFrame(data = df_stat_test_list,\n",
    "                                columns=['Variable','ADF','Pvalue'])\n",
    "df_stat_test.head()"
   ]
  },
  {
   "cell_type": "markdown",
   "metadata": {},
   "source": [
    "# Train Model "
   ]
  },
  {
   "cell_type": "code",
   "execution_count": null,
   "metadata": {},
   "outputs": [],
   "source": [
    "\n",
    "\n",
    "cvfold = model_selection.StratifiedKFold(n_splits = 4, random_state = 0)\n",
    "\n",
    "\n",
    "# Configure Pipeline\n",
    "model_dict = {\n",
    "    'RandomForest': ensemble.RandomForestRegressor(n_estimators=10, max_features='sqrt'),\n",
    "#     'LassoLars': LassoLars(),\n",
    "#     'kNN': KNeighborsRegressor(weights='distance'),\n",
    "#     'SVM': SVR(gamma='auto'),\n",
    "}\n",
    "\n",
    "model_conf = {\n",
    "    'RandomForest': {\n",
    "        'Model__max_depth': [3, 4, 6],\n",
    "        'Model__n_estimators': [3, 5, 10],\n",
    "    },\n",
    "    'LassoLars': {\n",
    "        'Model__alpha': [0.1, 0.3, 1, 5, 10],\n",
    "    },\n",
    "    'kNN': {\n",
    "        'Model__n_neighbors': [3, 4, 5, 10],\n",
    "    },\n",
    "    'SVM': {\n",
    "        'Model__kernel': ['rbf','linear'],\n",
    "        'Model__C' : [0.1, 1, 10],\n",
    "    }\n",
    "}\n",
    "\n",
    "scorer = metrics.make_scorer(primary_scorer, greater_is_better = False)\n",
    "\n",
    "\n",
    "ml_model_list = {}\n",
    "\n",
    "\n",
    "for model_name in model_dict.keys():\n",
    "    conf_train_pipe = [\n",
    "        ('Scaler', preprocessing.StandardScaler()),\n",
    "        ('Model', model_dict[model_name]),\n",
    "    ]\n",
    "    \n",
    "    # Create Pipeline\n",
    "    model_pipe = pipeline.Pipeline(conf_train_pipe)\n",
    "    param_grid = model_conf[model_name].copy()\n",
    "    model_pipe = model_selection.GridSearchCV(model_pipe, param_grid,\n",
    "                                              scoring=scorer,\n",
    "                                              fit_params=None,\n",
    "                                              cv=cvfold.split(Xtrain, dfuTrain),\n",
    "                                              return_train_score=True,)\n",
    "\n",
    "    model_pipe.fit(Xtrain, Ytrain)\n",
    "    ml_model_list[model_name] = model_pipe \n",
    "         "
   ]
  },
  {
   "cell_type": "markdown",
   "metadata": {},
   "source": [
    "# Predict ML Model "
   ]
  },
  {
   "cell_type": "code",
   "execution_count": null,
   "metadata": {},
   "outputs": [],
   "source": [
    "\n",
    "\n",
    "forecast_model = ForecastModel(**stats_setup)\n",
    "\n",
    "Y = ml_data[ml_target].copy()\n",
    "X = ml_data[ml_variables].copy().fillna(0)\n",
    "\n",
    "test_forecast = ml_data.copy()\n",
    "test_forecast[ml_target] = Y\n",
    "for model_name in ml_model_list.keys():\n",
    "    Yhat_test = ml_model_list[model_name].predict(X)\n",
    "    test_forecast['ml_forecast_'+model_name] = Yhat_test\n",
    "#     test_forecast['ml_forecast_'+model_name] = Yhat_test + test_forecast['forecast_fb-prophet']\n",
    "    \n",
    "    updated_forecast = forecast_model.apply_forecast_business_rules(\n",
    "                            (test_forecast['ml_forecast_'+model_name],\n",
    "                             test_forecast['ml_forecast_'+model_name],\n",
    "                             test_forecast['ml_forecast_'+model_name]))\n",
    "    test_forecast['ml_forecast_'+model_name] = updated_forecast[0]\n"
   ]
  },
  {
   "cell_type": "markdown",
   "metadata": {},
   "source": [
    "# Scoring "
   ]
  },
  {
   "cell_type": "code",
   "execution_count": null,
   "metadata": {},
   "outputs": [],
   "source": [
    "test_forecast[test_forecast['category'].isnull()]"
   ]
  },
  {
   "cell_type": "code",
   "execution_count": null,
   "metadata": {},
   "outputs": [],
   "source": [
    "\n",
    "ml_score_list = []\n",
    "for dfu in test_forecast[dfu_col].unique():\n",
    "    for mlmodel_name in ml_model_list.keys():\n",
    "        mltarget_col = 'target'\n",
    "        mlforecast_col = 'ml_forecast_' + mlmodel_name\n",
    "        # Loop over scores\n",
    "        # Evaluate each data_category\n",
    "        score_data = []\n",
    "        for data_cat in test_forecast['category'].unique():\n",
    "            if data_cat == 'future':\n",
    "                continue\n",
    "            idx = (test_forecast['category'] == data_cat) & (test_forecast[dfu_col] == dfu)\n",
    "            Ytest = test_forecast.loc[idx, mltarget_col].values\n",
    "            Yhat = test_forecast.loc[idx, mlforecast_col].values\n",
    "            for score_name, scorer in score_list.items():\n",
    "                # Score model\n",
    "                score = scorer(Ytest, Yhat, None)\n",
    "                # Add score to table\n",
    "                score_data.append([dfu, mlmodel_name, data_cat, score_name, score])\n",
    "        ml_score_list.append(pandas.DataFrame(data=score_data,\n",
    "                                              columns=['dfu',\n",
    "                                                       'model_name',\n",
    "                                                       'data_category',\n",
    "                                                       'score_name',\n",
    "                                                       'score_value']))\n",
    "ml_score_data = pandas.concat(ml_score_list)\n",
    "ml_score_data.head()\n",
    "# ml_score_data[ml_score_data.data_category == 'test']\n"
   ]
  },
  {
   "cell_type": "markdown",
   "metadata": {},
   "source": [
    "# Compare Scores"
   ]
  },
  {
   "cell_type": "code",
   "execution_count": null,
   "metadata": {},
   "outputs": [],
   "source": [
    "df_scores = pandas.concat((batch_result['score_data'], ml_score_data))\n",
    "X=(df_scores[(df_scores.score_name == 'wmape') & (df_scores.data_category == 'test')]\n",
    "         .groupby(['dfu','data_category','model_name'], as_index=False)\n",
    "         .score_value\n",
    "         .mean()\n",
    "         .sort_values(['dfu','data_category','score_value'], ascending=False)      \n",
    ")\n",
    "\n",
    "X.groupby(['dfu', 'model_name']).score_value.mean()"
   ]
  },
  {
   "cell_type": "markdown",
   "metadata": {},
   "source": [
    "# Scatter-Plot "
   ]
  },
  {
   "cell_type": "code",
   "execution_count": null,
   "metadata": {},
   "outputs": [],
   "source": [
    "plt.figure()\n",
    "test_forecast.plot.scatter('target','forecast_fb-prophet',c='k', ax=plt.gca(), label='Statistical')\n",
    "test_forecast.plot.scatter('target','ml_forecast_RandomForest', c='b', ax=plt.gca(), label='ML')\n",
    "plt.plot([0, test_forecast.target.max()], [0, test_forecast.target.max()], '-r', label='Ref.')\n",
    "plt.legend()\n"
   ]
  },
  {
   "cell_type": "markdown",
   "metadata": {},
   "source": [
    "# Residual Plot "
   ]
  },
  {
   "cell_type": "code",
   "execution_count": null,
   "metadata": {},
   "outputs": [],
   "source": [
    "plt.figure()\n",
    "\n",
    "X = test_forecast.copy()\n",
    "X['ErrorStat'] = test_forecast.target - test_forecast['forecast_fb-prophet']\n",
    "X['ErrorML'] = test_forecast.target - test_forecast['ml_forecast_RandomForest']\n",
    "\n",
    "\n",
    "X.plot.scatter('target', 'ErrorStat',c='k', ax=plt.gca(), label='Statistical')\n",
    "X.plot.scatter('target','ErrorML', c='b', ax=plt.gca(), label='ML')\n",
    "plt.plot([0, test_forecast.target.max()], [0, 0], '-r', label='Ref.')\n",
    "plt.legend()\n"
   ]
  },
  {
   "cell_type": "markdown",
   "metadata": {},
   "source": [
    "# Feature IMportance "
   ]
  },
  {
   "cell_type": "code",
   "execution_count": null,
   "metadata": {},
   "outputs": [],
   "source": [
    "clf = ml_model_list['RandomForest'].best_estimator_.steps[1][1]\n",
    "\n",
    "idx = np.argsort(clf.feature_importances_)\n",
    "\n",
    "\n",
    "plt.barh(np.arange(len(ml_variables)), clf.feature_importances_[idx])\n",
    "plt.yticks(np.arange(len(ml_variables)), np.array(ml_variables)[idx])\n",
    "plt.title('Feature Importance')"
   ]
  },
  {
   "cell_type": "markdown",
   "metadata": {},
   "source": [
    "# Plot"
   ]
  },
  {
   "cell_type": "code",
   "execution_count": null,
   "metadata": {},
   "outputs": [],
   "source": [
    "plt.figure(figsize=(12,4))\n",
    "\n",
    "complete_data = batch_result['forecast_data']\n",
    "\n",
    "shade_color = '#aaaaaa'\n",
    "\n",
    "complete_data.groupby(time_col)[target_col].sum().plot(label='Historico')\n",
    "\n",
    "colors = ['k','r','g','m','y']\n",
    "for i, model_name in enumerate(batch_result['score_data'].model_name.unique()):\n",
    "    forecast_col = 'forecast_' + model_name\n",
    "    dev_forecast_col = 'dev_' + forecast_col\n",
    "#     (complete_data[complete_data.category=='test']\n",
    "#                  .groupby(time_col)[dev_forecast_col].sum()\n",
    "#                  .plot(color = colors[i], ls='-', label=model_name+' Test'))\n",
    "    (test_forecast.groupby(time_col)[forecast_col].sum()\n",
    "                  .plot(color = colors[i], ls='-.', label=model_name+' Forecast', marker='o'))\n",
    "\n",
    "\n",
    "colors = ['k','r','g','m','y']\n",
    "for i, model_name in enumerate(ml_model_list.keys()):\n",
    "    (test_forecast.groupby(time_col)['ml_forecast_'+model_name].sum()\n",
    "                 .plot(color = colors[i], ls='--', label=model_name+' ML', marker='x'))\n",
    "        \n",
    "    \n",
    "plt.legend()\n",
    "plt.grid(True)\n",
    "\n",
    "plt.tight_layout()"
   ]
  },
  {
   "cell_type": "markdown",
   "metadata": {},
   "source": [
    "# SHAP "
   ]
  },
  {
   "cell_type": "code",
   "execution_count": null,
   "metadata": {},
   "outputs": [],
   "source": [
    "import shap\n",
    "\n",
    "shap.initjs()\n",
    "# explain the model's predictions using SHAP\n",
    "# (same syntax works for LightGBM, CatBoost, scikit-learn and spark models)\n",
    "explainer = shap.TreeExplainer(ml_model_list[model_name].best_estimator_.steps[1][1])"
   ]
  },
  {
   "cell_type": "code",
   "execution_count": null,
   "metadata": {},
   "outputs": [],
   "source": [
    "plt.figure(figsize=(12,4))\n",
    "\n",
    "complete_data = batch_result['forecast_data']\n",
    "\n",
    "shade_color = '#aaaaaa'\n",
    "dfu_sample = np.random.choice(complete_data.dfu.unique())\n",
    "idx = complete_data.dfu.isin([dfu_sample])\n",
    "complete_data[idx].groupby(time_col)[target_col].sum().plot(label='Historico')\n",
    "\n",
    "colors = ['k','r','g','m','y']\n",
    "idx = test_forecast.dfu.isin([dfu_sample])\n",
    "\n",
    "for i, model_name in enumerate(batch_result['score_data'].model_name.unique()):\n",
    "    (test_forecast[idx].groupby(time_col)['forecast_' + model_name].sum()\n",
    "                       .plot(color = colors[i], ls='-.', label=model_name+' Forecast', marker='o'))\n",
    "\n",
    "\n",
    "\n",
    "\n",
    "for i, model_name in enumerate(ml_model_list.keys()):\n",
    "    (test_forecast[idx].groupby(time_col)['ml_forecast_'+model_name].sum()\n",
    "                       .plot(color = colors[i], ls='--', label=model_name+' ML Test', marker='x'))\n",
    "        \n",
    "    \n",
    "plt.legend()\n",
    "plt.title(dfu_sample)\n",
    "plt.grid(True)\n",
    "\n",
    "plt.tight_layout()"
   ]
  },
  {
   "cell_type": "code",
   "execution_count": null,
   "metadata": {},
   "outputs": [],
   "source": [
    "plt.figure(figsize=(12,4))\n",
    "for i, model_name in enumerate(['credito_rural']):\n",
    "    (test_forecast[idx].groupby(time_col)[model_name].sum()\n",
    "                       .plot(ls='--', label=model_name))\n",
    "    \n",
    "plt.legend()\n",
    "plt.title(dfu_sample)\n",
    "plt.grid(True)\n",
    "\n",
    "plt.tight_layout()              "
   ]
  },
  {
   "cell_type": "code",
   "execution_count": null,
   "metadata": {},
   "outputs": [],
   "source": [
    "dfu_sample\n",
    "date_sample = '2018-06-01'\n",
    "\n",
    "X = ml_data[(ml_data.dfu == dfu_sample) & (ml_data[time_col] == date_sample)][ml_variables]\n",
    "\n",
    "shap_values = explainer.shap_values(X)\n",
    "# visualize the first prediction's explanation (use matplotlib=True to avoid Javascript)\n",
    "shap.force_plot(explainer.expected_value, shap_values, X, feature_names = ml_variables)\n"
   ]
  },
  {
   "cell_type": "code",
   "execution_count": null,
   "metadata": {},
   "outputs": [],
   "source": [
    "\n",
    "\n",
    "X = ml_data[(ml_data.dfu == dfu_sample)][ml_variables]\n",
    "shap_values = explainer.shap_values(X)\n",
    "shap.force_plot(explainer.expected_value, shap_values, X, feature_names=ml_variables)"
   ]
  },
  {
   "cell_type": "code",
   "execution_count": null,
   "metadata": {},
   "outputs": [],
   "source": []
  },
  {
   "cell_type": "code",
   "execution_count": null,
   "metadata": {},
   "outputs": [],
   "source": [
    "ivar = 0\n",
    "# create a dependence plot to show the effect of a single feature across the whole dataset\n",
    "shap.dependence_plot(ml_variables[ivar], shap_values, X, feature_names=ml_variables)"
   ]
  },
  {
   "cell_type": "code",
   "execution_count": null,
   "metadata": {},
   "outputs": [],
   "source": [
    "# summarize the effects of all the features\n",
    "shap.summary_plot(shap_values, X, feature_names=ml_variables)"
   ]
  },
  {
   "cell_type": "code",
   "execution_count": null,
   "metadata": {},
   "outputs": [],
   "source": []
  },
  {
   "cell_type": "code",
   "execution_count": null,
   "metadata": {},
   "outputs": [],
   "source": []
  },
  {
   "cell_type": "code",
   "execution_count": null,
   "metadata": {},
   "outputs": [],
   "source": []
  }
 ],
 "metadata": {
  "kernelspec": {
   "display_name": "Python 3",
   "language": "python",
   "name": "python3"
  },
  "language_info": {
   "codemirror_mode": {
    "name": "ipython",
    "version": 3
   },
   "file_extension": ".py",
   "mimetype": "text/x-python",
   "name": "python",
   "nbconvert_exporter": "python",
   "pygments_lexer": "ipython3",
   "version": "3.7.4"
  }
 },
 "nbformat": 4,
 "nbformat_minor": 4
}
