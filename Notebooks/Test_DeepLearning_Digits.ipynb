{
 "cells": [
  {
   "cell_type": "markdown",
   "metadata": {},
   "source": [
    "# Overview"
   ]
  },
  {
   "cell_type": "markdown",
   "metadata": {},
   "source": [
    "This notebook is for testing Deep Learning approaches to the digits classification task."
   ]
  },
  {
   "cell_type": "code",
   "execution_count": 50,
   "metadata": {
    "collapsed": false
   },
   "outputs": [
    {
     "name": "stdout",
     "output_type": "stream",
     "text": [
      "The autoreload extension is already loaded. To reload it, use:\n",
      "  %reload_ext autoreload\n"
     ]
    }
   ],
   "source": [
    "%load_ext autoreload\n",
    "\n",
    "%autoreload 2\n",
    "\n",
    "g_seed = 10\n",
    "import numpy as np\n",
    "np.random.seed(g_seed)\n",
    "\n",
    "from sklearn import datasets, model_selection, preprocessing, metrics\n",
    "import pandas\n",
    "\n",
    "from keras import models\n",
    "from keras import layers\n",
    "from keras import optimizers\n",
    "from keras import callbacks\n",
    "from keras import backend\n",
    "from scipy import stats\n",
    "\n",
    "import matplotlib.pyplot as plt\n",
    "\n",
    "%matplotlib inline"
   ]
  },
  {
   "cell_type": "markdown",
   "metadata": {},
   "source": [
    "# Load Dataset"
   ]
  },
  {
   "cell_type": "code",
   "execution_count": 51,
   "metadata": {
    "collapsed": true
   },
   "outputs": [],
   "source": [
    "data = datasets.load_digits()\n",
    "tgt_encoder = preprocessing.LabelBinarizer(neg_label=-1)\n",
    "data['target_bin'] = tgt_encoder.fit_transform(data.target)"
   ]
  },
  {
   "cell_type": "markdown",
   "metadata": {},
   "source": [
    "## Plot Some Examples"
   ]
  },
  {
   "cell_type": "code",
   "execution_count": 52,
   "metadata": {
    "collapsed": false
   },
   "outputs": [
    {
     "data": {
      "image/png": "[encoded data removed]",
      "text/plain": [
       "<matplotlib.figure.Figure at 0x117323828>"
      ]
     },
     "metadata": {},
     "output_type": "display_data"
    }
   ],
   "source": [
    "nshow = 4\n",
    "fig = plt.figure(1, figsize=(nshow*3+1, 3))\n",
    "for i in range(nshow):\n",
    "    ax = fig.add_subplot(1,nshow,i+1)\n",
    "    irnd = np.random.randint(data.images.shape[0])\n",
    "    ax.imshow(data.images[irnd], cmap=plt.cm.gray_r, interpolation='nearest')\n",
    "    ax.set_title('Label: %i'%(data.target_names[data.target[irnd]]))\n",
    "    ax.set_xticks([])\n",
    "    ax.set_yticks([])"
   ]
  },
  {
   "cell_type": "markdown",
   "metadata": {},
   "source": [
    "# Descriptive Analysis"
   ]
  },
  {
   "cell_type": "code",
   "execution_count": 53,
   "metadata": {
    "collapsed": false
   },
   "outputs": [
    {
     "data": {
      "text/plain": [
       "<matplotlib.text.Text at 0x11c29d198>"
      ]
     },
     "execution_count": 53,
     "metadata": {},
     "output_type": "execute_result"
    },
    {
     "data": {
      "image/png": "[encoded data removed]",
      "text/plain": [
       "<matplotlib.figure.Figure at 0x11edb7fd0>"
      ]
     },
     "metadata": {},
     "output_type": "display_data"
    }
   ],
   "source": [
    "df = pandas.DataFrame().from_dict({'Target':data.target_names[data.target]})\n",
    "df.groupby('Target').Target.count().plot(kind='bar', title='Class Count', facecolor='k')\n",
    "plt.ylabel('Count')"
   ]
  },
  {
   "cell_type": "markdown",
   "metadata": {},
   "source": [
    "## Train x Test Split"
   ]
  },
  {
   "cell_type": "code",
   "execution_count": 54,
   "metadata": {
    "collapsed": false
   },
   "outputs": [
    {
     "name": "stdout",
     "output_type": "stream",
     "text": [
      "Train Size:  1437\n",
      "Test  Size:  180\n"
     ]
    },
    {
     "name": "stderr",
     "output_type": "stream",
     "text": [
      "/Users/ciodaro/.virtualenvs/projects/lib/python3.5/site-packages/sklearn/model_selection/_split.py:1639: FutureWarning: From version 0.21, test_size will always complement train_size unless both are specified.\n",
      "  FutureWarning)\n"
     ]
    }
   ],
   "source": [
    "nperc = 0.8\n",
    "nfold  = 10\n",
    "\n",
    "cv = model_selection.StratifiedShuffleSplit(n_splits=1, train_size=nperc, random_state=g_seed)\n",
    "for itrn, itst in cv.split(data.data, data.target):\n",
    "    break\n",
    "x_trn = data.data[itrn]\n",
    "y_trn = data.target_bin[itrn]\n",
    "c_trn = data.target[itrn]\n",
    "x_tst = data.data[itst]\n",
    "y_tst = data.target_bin[itst]\n",
    "c_tst = data.target[itst]\n",
    "print('Train Size: ', x_trn.shape[0])\n",
    "print('Test  Size: ', x_tst.shape[0])\n",
    "\n",
    "kfold = model_selection.StratifiedKFold(n_splits=nfold, random_state=g_seed)"
   ]
  },
  {
   "cell_type": "markdown",
   "metadata": {},
   "source": [
    "## Scaling"
   ]
  },
  {
   "cell_type": "code",
   "execution_count": 14,
   "metadata": {
    "collapsed": true
   },
   "outputs": [],
   "source": [
    "scaler = preprocessing.StandardScaler().fit(x_trn)\n",
    "x_trn = scaler.transform(x_trn)\n",
    "x_tst = scaler.transform(x_tst)"
   ]
  },
  {
   "cell_type": "markdown",
   "metadata": {},
   "source": [
    "# Modeling a Standard Neural Network"
   ]
  },
  {
   "cell_type": "markdown",
   "metadata": {},
   "source": [
    "## Configuration"
   ]
  },
  {
   "cell_type": "code",
   "execution_count": null,
   "metadata": {
    "collapsed": true
   },
   "outputs": [],
   "source": [
    "nhidden = 20\n",
    "nepoch  = 100\n",
    "lr = 0.01\n",
    "beta_1=0.9\n",
    "beta_2=0.999\n",
    "epsilon=1e-08"
   ]
  },
  {
   "cell_type": "code",
   "execution_count": null,
   "metadata": {
    "collapsed": false
   },
   "outputs": [],
   "source": [
    "net_results = []\n",
    "net_model = None\n",
    "net_model_result = None\n",
    "best_perf = 1e9\n",
    "print('Training', end='', flush=True)\n",
    "for itrn, ival in kfold.split(x_trn, c_trn):\n",
    "    print('.', end='', flush=True)\n",
    "    model = models.Sequential()\n",
    "    # Create network structure\n",
    "    model.add(layers.Dense(nhidden,\n",
    "                           activation = 'tanh',\n",
    "                           input_shape = [x_trn.shape[1]],\n",
    "                           kernel_initializer = 'uniform'))\n",
    "    model.add(layers.Dense(y_trn.shape[1],\n",
    "                           activation = 'tanh',\n",
    "                           input_shape = [nhidden],\n",
    "                           kernel_initializer = 'uniform'))\n",
    "    # Training\n",
    "    model.compile(loss='mean_squared_error', optimizer=optimizers.Adam(lr=lr,\n",
    "                                                                       beta_1=beta_1,\n",
    "                                                                       beta_2=beta_2,\n",
    "                                                                       epsilon=epsilon))\n",
    "    trn_desc = model.fit(x_trn[itrn], y_trn[itrn], validation_data=(x_trn[ival], y_trn[ival]),\n",
    "                         epochs = nepoch, batch_size = len(itrn), verbose=0)\n",
    "    net_results.append([trn_desc.history['loss'][-1], trn_desc.history['val_loss'][-1]])\n",
    "    # Get best\n",
    "    if trn_desc.history['val_loss'][-1] < best_perf:\n",
    "        best_perf = trn_desc.history['val_loss'][-1]\n",
    "        net_model = model\n",
    "        net_model_result = trn_desc\n",
    "net_results = np.array(net_results)        \n",
    "print(' done', end='', flush=True)"
   ]
  },
  {
   "cell_type": "markdown",
   "metadata": {},
   "source": [
    "## Results"
   ]
  },
  {
   "cell_type": "code",
   "execution_count": null,
   "metadata": {
    "collapsed": false
   },
   "outputs": [],
   "source": [
    "model = net_model\n",
    "model_result = net_model_result\n",
    "results = net_results\n",
    "\n",
    "plt.figure(figsize=(16,4))\n",
    "\n",
    "# Overall Train and Validation CV Performance\n",
    "plt.subplot(1,3,1)\n",
    "plt.boxplot(results)\n",
    "plt.title('Development Set Performance')\n",
    "plt.ylabel('MSE')\n",
    "plt.xticks([1,2], ['Train', 'Validation'])\n",
    "plt.grid()\n",
    "\n",
    "# Epochs\n",
    "plt.subplot(1,3,2)\n",
    "plt.plot(model_result.history['loss'], 'k', lw=3, label='Train Set')\n",
    "plt.plot(model_result.history['val_loss'], 'r', lw=3, label='Validation Set')\n",
    "plt.xlabel('Epochs')\n",
    "plt.ylabel('MSE')\n",
    "plt.legend(loc='best')\n",
    "plt.title('Best Model Training Performance')\n",
    "plt.grid()\n",
    "\n",
    "# Best CV Model\n",
    "plt.subplot(1,3,3)\n",
    "c_hat = model.predict_classes(x_trn)\n",
    "c_hat_tst = model.predict_classes(x_tst)\n",
    "trn_precision = metrics.precision_score(c_trn, c_hat, average=None)\n",
    "trn_recall    = metrics.recall_score(c_trn, c_hat, average=None)\n",
    "tst_precision = metrics.precision_score(c_tst, c_hat_tst, average=None)\n",
    "tst_recall    = metrics.recall_score(c_tst, c_hat_tst, average=None)\n",
    "\n",
    "spacer = 0.2\n",
    "# precision\n",
    "plt.plot(np.unique(c_trn)-spacer, trn_precision, 'ok', label='Precision-Train')\n",
    "plt.plot(np.unique(c_tst)+spacer, tst_precision, 'or', label='Precision-Test')\n",
    "\n",
    "plt.plot(np.unique(c_trn)-spacer, trn_recall, 'sk', label='Recall-Train')\n",
    "plt.plot(np.unique(c_tst)+spacer, tst_recall, 'sr', label='Recall-Test')\n",
    "\n",
    "for x,ymin,ymax in zip(np.unique(c_trn), trn_precision, trn_recall):\n",
    "    plt.vlines(x=x-spacer, color='k',linestyle='-',linewidth=3,\n",
    "                ymax = (ymax if ymax > ymin else ymin),\n",
    "                ymin = (ymin if ymax > ymin else ymax))\n",
    "for x,ymin,ymax in zip(np.unique(c_tst), tst_precision, tst_recall):\n",
    "    plt.vlines(x=x+spacer, color='r',linestyle='-',linewidth=3,\n",
    "                ymax = (ymax if ymax > ymin else ymin),\n",
    "                ymin = (ymin if ymax > ymin else ymax))    \n",
    "plt.grid()\n",
    "plt.legend(loc='best', numpoints=1)\n",
    "plt.xlim((np.min(c_trn)-spacer - 0.1, np.max(c_trn) + spacer + 0.1))\n",
    "plt.gca().set_xticks(np.unique(c_trn))\n",
    "plt.title('Results per Class (entire development dataset)')\n",
    "\n",
    "# Some prints\n",
    "print('Train Performance: %.2f %%'%(metrics.precision_score(c_trn, c_hat, average='weighted') * 100))\n",
    "print('Test  Performance: %.2f %%'%(metrics.precision_score(c_tst, c_hat_tst, average='weighted') * 100))"
   ]
  },
  {
   "cell_type": "markdown",
   "metadata": {},
   "source": [
    "# Modeling a Simple Deep Learning Network"
   ]
  },
  {
   "cell_type": "code",
   "execution_count": 74,
   "metadata": {
    "collapsed": true
   },
   "outputs": [],
   "source": [
    "nhiddens = [100, 50, 20]\n",
    "nepoch  = 10\n",
    "lr = 0.01\n",
    "beta_1=0.9\n",
    "beta_2=0.999\n",
    "epsilon=1e-08\n",
    "nfold  = 10"
   ]
  },
  {
   "cell_type": "code",
   "execution_count": 75,
   "metadata": {
    "collapsed": false
   },
   "outputs": [
    {
     "name": "stdout",
     "output_type": "stream",
     "text": [
      "Training.......... done"
     ]
    }
   ],
   "source": [
    "simple_dl_results = []\n",
    "simple_dl_model = None\n",
    "simple_dl_model_result = None\n",
    "best_perf = 1e9\n",
    "print('Training', end='', flush=True)\n",
    "for itrn, ival in kfold.split(x_trn, c_trn):\n",
    "    print('.', end='', flush=True)\n",
    "    model = models.Sequential()\n",
    "    ninput = x_trn.shape[1]\n",
    "    # Create network structure\n",
    "    for nhidden in nhiddens:\n",
    "        model.add(layers.Dense(nhidden,\n",
    "                               activation = 'tanh',\n",
    "                               input_shape = [ninput],\n",
    "                               kernel_initializer = 'uniform'))\n",
    "        ninput = nhidden\n",
    "    # Output layer\n",
    "    model.add(layers.Dense(y_trn.shape[1],\n",
    "                           activation = 'tanh',\n",
    "                           input_shape = [ninput],\n",
    "                           kernel_initializer = 'uniform'))\n",
    "    # Training\n",
    "    model.compile(loss='mean_squared_error', optimizer=optimizers.Adam(lr=lr,\n",
    "                                                                       beta_1=beta_1,\n",
    "                                                                       beta_2=beta_2,\n",
    "                                                                       epsilon=epsilon))\n",
    "    trn_desc = model.fit(x_trn[itrn], y_trn[itrn], validation_data=(x_trn[ival], y_trn[ival]),\n",
    "                         epochs = nepoch, batch_size = len(itrn), verbose=0)\n",
    "    simple_dl_results.append([trn_desc.history['loss'][-1], trn_desc.history['val_loss'][-1]])\n",
    "    # Get best\n",
    "    if trn_desc.history['val_loss'][-1] < best_perf:\n",
    "        best_perf = trn_desc.history['val_loss'][-1]\n",
    "        simple_dl_model = model\n",
    "        simple_dl_model_result = trn_desc\n",
    "simple_dl_results = np.array(simple_dl_results)        \n",
    "print(' done', end='', flush=True)"
   ]
  },
  {
   "cell_type": "markdown",
   "metadata": {},
   "source": [
    "## Results"
   ]
  },
  {
   "cell_type": "code",
   "execution_count": null,
   "metadata": {
    "collapsed": false
   },
   "outputs": [],
   "source": [
    "model = simple_dl_model\n",
    "model_result = simple_dl_model_result\n",
    "results = simple_dl_results\n",
    "\n",
    "plt.figure(figsize=(16,4))\n",
    "\n",
    "# Overall Train and Validation CV Performance\n",
    "plt.subplot(1,3,1)\n",
    "plt.boxplot(results)\n",
    "plt.title('Development Set Performance')\n",
    "plt.ylabel('MSE')\n",
    "plt.xticks([1,2], ['Train', 'Validation'])\n",
    "plt.grid()\n",
    "\n",
    "# Epochs\n",
    "plt.subplot(1,3,2)\n",
    "plt.plot(model_result.history['loss'], 'k', lw=3, label='Train Set')\n",
    "plt.plot(model_result.history['val_loss'], 'r', lw=3, label='Validation Set')\n",
    "plt.xlabel('Epochs')\n",
    "plt.ylabel('MSE')\n",
    "plt.legend(loc='best')\n",
    "plt.title('Best Model Training Performance')\n",
    "plt.grid()\n",
    "\n",
    "# Best CV Model\n",
    "plt.subplot(1,3,3)\n",
    "c_hat = model.predict_classes(x_trn)\n",
    "c_hat_tst = model.predict_classes(x_tst)\n",
    "trn_precision = metrics.precision_score(c_trn, c_hat, average=None)\n",
    "trn_recall    = metrics.recall_score(c_trn, c_hat, average=None)\n",
    "tst_precision = metrics.precision_score(c_tst, c_hat_tst, average=None)\n",
    "tst_recall    = metrics.recall_score(c_tst, c_hat_tst, average=None)\n",
    "\n",
    "spacer = 0.2\n",
    "# precision\n",
    "plt.plot(np.unique(c_trn)-spacer, trn_precision, 'ok', label='Precision-Train')\n",
    "plt.plot(np.unique(c_tst)+spacer, tst_precision, 'or', label='Precision-Test')\n",
    "\n",
    "plt.plot(np.unique(c_trn)-spacer, trn_recall, 'sk', label='Recall-Train')\n",
    "plt.plot(np.unique(c_tst)+spacer, tst_recall, 'sr', label='Recall-Test')\n",
    "\n",
    "for x,ymin,ymax in zip(np.unique(c_trn), trn_precision, trn_recall):\n",
    "    plt.vlines(x=x-spacer, color='k',linestyle='-',linewidth=3,\n",
    "                ymax = (ymax if ymax > ymin else ymin),\n",
    "                ymin = (ymin if ymax > ymin else ymax))\n",
    "for x,ymin,ymax in zip(np.unique(c_tst), tst_precision, tst_recall):\n",
    "    plt.vlines(x=x+spacer, color='r',linestyle='-',linewidth=3,\n",
    "                ymax = (ymax if ymax > ymin else ymin),\n",
    "                ymin = (ymin if ymax > ymin else ymax))    \n",
    "plt.grid()\n",
    "plt.legend(loc='best', numpoints=1)\n",
    "plt.xlim((np.min(c_trn)-spacer - 0.1, np.max(c_trn) + spacer + 0.1))\n",
    "plt.gca().set_xticks(np.unique(c_trn))\n",
    "plt.title('Results per Class (entire development dataset)')\n",
    "\n",
    "# Some prints\n",
    "print('Train Performance: %.2f %%'%(metrics.precision_score(c_trn, c_hat, average='weighted') * 100))\n",
    "print('Test  Performance: %.2f %%'%(metrics.precision_score(c_tst, c_hat_tst, average='weighted') * 100))"
   ]
  },
  {
   "cell_type": "markdown",
   "metadata": {},
   "source": [
    "# Modeling a Stacked Auto Encoder"
   ]
  },
  {
   "cell_type": "markdown",
   "metadata": {},
   "source": [
    "## Configuration"
   ]
  },
  {
   "cell_type": "code",
   "execution_count": 80,
   "metadata": {
    "collapsed": false
   },
   "outputs": [],
   "source": [
    "import sys\n",
    "sys.path.append('../DeepLearning/')\n",
    "\n",
    "import StackedAutoEncoder as SAE\n",
    "\n",
    "net_config = {\n",
    "    'hiddens': [x_trn.shape[1], 10, 5, 2, 5, 10, x_trn.shape[1]],\n",
    "    'optimizers': ['adam','adam','adam'],\n",
    "    'nepochs': 100,\n",
    "    'batch_size': 100,\n",
    "    'ninit': 1,    \n",
    "    'verbose': 0,\n",
    "}"
   ]
  },
  {
   "cell_type": "markdown",
   "metadata": {},
   "source": [
    "## Train"
   ]
  },
  {
   "cell_type": "code",
   "execution_count": 81,
   "metadata": {
    "collapsed": false
   },
   "outputs": [
    {
     "name": "stdout",
     "output_type": "stream",
     "text": [
      "Training.......... done"
     ]
    }
   ],
   "source": [
    "sae_results = []\n",
    "sae_model = None\n",
    "sae_model_result = None\n",
    "best_perf = 1e9\n",
    "print('Training', end='', flush=True)\n",
    "for itrn, ival in kfold.split(x_trn, c_trn):\n",
    "    print('.', end='', flush=True)\n",
    "    model = SAE.StackedAutoEncoder(**net_config)\n",
    "    model.fit(x_trn[itrn], validation_data = x_trn[ival])\n",
    "    sae_results.append([model.score(x_trn[itrn]), model.score(x_trn[ival])])\n",
    "    # Get best\n",
    "    if sae_results[-1][1] < best_perf:\n",
    "        best_perf = sae_results[-1][1]\n",
    "        sae_model = model\n",
    "        sae_model_result = trn_desc\n",
    "sae_results = np.array(sae_results)        \n",
    "print(' done', end='', flush=True)"
   ]
  },
  {
   "cell_type": "markdown",
   "metadata": {},
   "source": [
    "## Results"
   ]
  },
  {
   "cell_type": "code",
   "execution_count": 88,
   "metadata": {
    "collapsed": false,
    "scrolled": true
   },
   "outputs": [
    {
     "ename": "AttributeError",
     "evalue": "Unknown property l",
     "output_type": "error",
     "traceback": [
      "\u001b[0;31m---------------------------------------------------------------------------\u001b[0m",
      "\u001b[0;31mAttributeError\u001b[0m                            Traceback (most recent call last)",
      "\u001b[0;32m<ipython-input-88-a7d8c127e7c0>\u001b[0m in \u001b[0;36m<module>\u001b[0;34m()\u001b[0m\n\u001b[1;32m     15\u001b[0m \u001b[0mplt\u001b[0m\u001b[0;34m.\u001b[0m\u001b[0msubplot\u001b[0m\u001b[0;34m(\u001b[0m\u001b[0;36m1\u001b[0m\u001b[0;34m,\u001b[0m\u001b[0;36m2\u001b[0m\u001b[0;34m,\u001b[0m\u001b[0;36m2\u001b[0m\u001b[0;34m)\u001b[0m\u001b[0;34m\u001b[0m\u001b[0m\n\u001b[1;32m     16\u001b[0m \u001b[0mx_encoded\u001b[0m \u001b[0;34m=\u001b[0m \u001b[0msae_model\u001b[0m\u001b[0;34m.\u001b[0m\u001b[0mencode\u001b[0m\u001b[0;34m(\u001b[0m\u001b[0mx_trn\u001b[0m\u001b[0;34m)\u001b[0m\u001b[0;34m\u001b[0m\u001b[0m\n\u001b[0;32m---> 17\u001b[0;31m \u001b[0mplt\u001b[0m\u001b[0;34m.\u001b[0m\u001b[0mscatter\u001b[0m\u001b[0;34m(\u001b[0m\u001b[0mx_encoded\u001b[0m\u001b[0;34m[\u001b[0m\u001b[0midx\u001b[0m\u001b[0;34m,\u001b[0m\u001b[0;36m0\u001b[0m\u001b[0;34m]\u001b[0m\u001b[0;34m,\u001b[0m \u001b[0mx_encoded\u001b[0m\u001b[0;34m[\u001b[0m\u001b[0midx\u001b[0m\u001b[0;34m,\u001b[0m\u001b[0;36m1\u001b[0m\u001b[0;34m]\u001b[0m\u001b[0;34m,\u001b[0m \u001b[0mc\u001b[0m\u001b[0;34m=\u001b[0m\u001b[0mc_trn\u001b[0m\u001b[0;34m[\u001b[0m\u001b[0midx\u001b[0m\u001b[0;34m]\u001b[0m\u001b[0;34m,\u001b[0m \u001b[0ml\u001b[0m\u001b[0;34m=\u001b[0m\u001b[0mc_trn\u001b[0m\u001b[0;34m)\u001b[0m\u001b[0;34m\u001b[0m\u001b[0m\n\u001b[0m",
      "\u001b[0;32m/Users/ciodaro/.virtualenvs/projects/lib/python3.5/site-packages/matplotlib/pyplot.py\u001b[0m in \u001b[0;36mscatter\u001b[0;34m(x, y, s, c, marker, cmap, norm, vmin, vmax, alpha, linewidths, verts, edgecolors, hold, data, **kwargs)\u001b[0m\n\u001b[1;32m   3249\u001b[0m                          \u001b[0mvmin\u001b[0m\u001b[0;34m=\u001b[0m\u001b[0mvmin\u001b[0m\u001b[0;34m,\u001b[0m \u001b[0mvmax\u001b[0m\u001b[0;34m=\u001b[0m\u001b[0mvmax\u001b[0m\u001b[0;34m,\u001b[0m \u001b[0malpha\u001b[0m\u001b[0;34m=\u001b[0m\u001b[0malpha\u001b[0m\u001b[0;34m,\u001b[0m\u001b[0;34m\u001b[0m\u001b[0m\n\u001b[1;32m   3250\u001b[0m                          \u001b[0mlinewidths\u001b[0m\u001b[0;34m=\u001b[0m\u001b[0mlinewidths\u001b[0m\u001b[0;34m,\u001b[0m \u001b[0mverts\u001b[0m\u001b[0;34m=\u001b[0m\u001b[0mverts\u001b[0m\u001b[0;34m,\u001b[0m\u001b[0;34m\u001b[0m\u001b[0m\n\u001b[0;32m-> 3251\u001b[0;31m                          edgecolors=edgecolors, data=data, **kwargs)\n\u001b[0m\u001b[1;32m   3252\u001b[0m     \u001b[0;32mfinally\u001b[0m\u001b[0;34m:\u001b[0m\u001b[0;34m\u001b[0m\u001b[0m\n\u001b[1;32m   3253\u001b[0m         \u001b[0max\u001b[0m\u001b[0;34m.\u001b[0m\u001b[0mhold\u001b[0m\u001b[0;34m(\u001b[0m\u001b[0mwashold\u001b[0m\u001b[0;34m)\u001b[0m\u001b[0;34m\u001b[0m\u001b[0m\n",
      "\u001b[0;32m/Users/ciodaro/.virtualenvs/projects/lib/python3.5/site-packages/matplotlib/__init__.py\u001b[0m in \u001b[0;36minner\u001b[0;34m(ax, *args, **kwargs)\u001b[0m\n\u001b[1;32m   1810\u001b[0m                     warnings.warn(msg % (label_namer, func.__name__),\n\u001b[1;32m   1811\u001b[0m                                   RuntimeWarning, stacklevel=2)\n\u001b[0;32m-> 1812\u001b[0;31m             \u001b[0;32mreturn\u001b[0m \u001b[0mfunc\u001b[0m\u001b[0;34m(\u001b[0m\u001b[0max\u001b[0m\u001b[0;34m,\u001b[0m \u001b[0;34m*\u001b[0m\u001b[0margs\u001b[0m\u001b[0;34m,\u001b[0m \u001b[0;34m**\u001b[0m\u001b[0mkwargs\u001b[0m\u001b[0;34m)\u001b[0m\u001b[0;34m\u001b[0m\u001b[0m\n\u001b[0m\u001b[1;32m   1813\u001b[0m         \u001b[0mpre_doc\u001b[0m \u001b[0;34m=\u001b[0m \u001b[0minner\u001b[0m\u001b[0;34m.\u001b[0m\u001b[0m__doc__\u001b[0m\u001b[0;34m\u001b[0m\u001b[0m\n\u001b[1;32m   1814\u001b[0m         \u001b[0;32mif\u001b[0m \u001b[0mpre_doc\u001b[0m \u001b[0;32mis\u001b[0m \u001b[0;32mNone\u001b[0m\u001b[0;34m:\u001b[0m\u001b[0;34m\u001b[0m\u001b[0m\n",
      "\u001b[0;32m/Users/ciodaro/.virtualenvs/projects/lib/python3.5/site-packages/matplotlib/axes/_axes.py\u001b[0m in \u001b[0;36mscatter\u001b[0;34m(self, x, y, s, c, marker, cmap, norm, vmin, vmax, alpha, linewidths, verts, edgecolors, **kwargs)\u001b[0m\n\u001b[1;32m   3894\u001b[0m                 )\n\u001b[1;32m   3895\u001b[0m         \u001b[0mcollection\u001b[0m\u001b[0;34m.\u001b[0m\u001b[0mset_transform\u001b[0m\u001b[0;34m(\u001b[0m\u001b[0mmtransforms\u001b[0m\u001b[0;34m.\u001b[0m\u001b[0mIdentityTransform\u001b[0m\u001b[0;34m(\u001b[0m\u001b[0;34m)\u001b[0m\u001b[0;34m)\u001b[0m\u001b[0;34m\u001b[0m\u001b[0m\n\u001b[0;32m-> 3896\u001b[0;31m         \u001b[0mcollection\u001b[0m\u001b[0;34m.\u001b[0m\u001b[0mupdate\u001b[0m\u001b[0;34m(\u001b[0m\u001b[0mkwargs\u001b[0m\u001b[0;34m)\u001b[0m\u001b[0;34m\u001b[0m\u001b[0m\n\u001b[0m\u001b[1;32m   3897\u001b[0m \u001b[0;34m\u001b[0m\u001b[0m\n\u001b[1;32m   3898\u001b[0m         \u001b[0;32mif\u001b[0m \u001b[0mcolors\u001b[0m \u001b[0;32mis\u001b[0m \u001b[0;32mNone\u001b[0m\u001b[0;34m:\u001b[0m\u001b[0;34m\u001b[0m\u001b[0m\n",
      "\u001b[0;32m/Users/ciodaro/.virtualenvs/projects/lib/python3.5/site-packages/matplotlib/artist.py\u001b[0m in \u001b[0;36mupdate\u001b[0;34m(self, props)\u001b[0m\n\u001b[1;32m    854\u001b[0m                 \u001b[0mfunc\u001b[0m \u001b[0;34m=\u001b[0m \u001b[0mgetattr\u001b[0m\u001b[0;34m(\u001b[0m\u001b[0mself\u001b[0m\u001b[0;34m,\u001b[0m \u001b[0;34m'set_'\u001b[0m \u001b[0;34m+\u001b[0m \u001b[0mk\u001b[0m\u001b[0;34m,\u001b[0m \u001b[0;32mNone\u001b[0m\u001b[0;34m)\u001b[0m\u001b[0;34m\u001b[0m\u001b[0m\n\u001b[1;32m    855\u001b[0m                 \u001b[0;32mif\u001b[0m \u001b[0mfunc\u001b[0m \u001b[0;32mis\u001b[0m \u001b[0;32mNone\u001b[0m \u001b[0;32mor\u001b[0m \u001b[0;32mnot\u001b[0m \u001b[0msix\u001b[0m\u001b[0;34m.\u001b[0m\u001b[0mcallable\u001b[0m\u001b[0;34m(\u001b[0m\u001b[0mfunc\u001b[0m\u001b[0;34m)\u001b[0m\u001b[0;34m:\u001b[0m\u001b[0;34m\u001b[0m\u001b[0m\n\u001b[0;32m--> 856\u001b[0;31m                     \u001b[0;32mraise\u001b[0m \u001b[0mAttributeError\u001b[0m\u001b[0;34m(\u001b[0m\u001b[0;34m'Unknown property %s'\u001b[0m \u001b[0;34m%\u001b[0m \u001b[0mk\u001b[0m\u001b[0;34m)\u001b[0m\u001b[0;34m\u001b[0m\u001b[0m\n\u001b[0m\u001b[1;32m    857\u001b[0m                 \u001b[0mfunc\u001b[0m\u001b[0;34m(\u001b[0m\u001b[0mv\u001b[0m\u001b[0;34m)\u001b[0m\u001b[0;34m\u001b[0m\u001b[0m\n\u001b[1;32m    858\u001b[0m             \u001b[0mchanged\u001b[0m \u001b[0;34m=\u001b[0m \u001b[0;32mTrue\u001b[0m\u001b[0;34m\u001b[0m\u001b[0m\n",
      "\u001b[0;31mAttributeError\u001b[0m: Unknown property l"
     ]
    },
    {
     "data": {
      "image/png": "[encoded data removed]",
      "text/plain": [
       "<matplotlib.figure.Figure at 0x135637e10>"
      ]
     },
     "metadata": {},
     "output_type": "display_data"
    }
   ],
   "source": [
    "model = sae_model\n",
    "model_result = sae_model_result\n",
    "results = sae_results\n",
    "\n",
    "plt.figure(figsize=(10,4))\n",
    "\n",
    "# Overall Train and Validation CV Performance\n",
    "plt.subplot(1,2,1)\n",
    "plt.boxplot(results)\n",
    "plt.title('Development Set Performance')\n",
    "plt.ylabel('MSE')\n",
    "plt.xticks([1,2], ['Train', 'Validation'])\n",
    "plt.grid()\n",
    "\n",
    "plt.subplot(1,2,2)\n",
    "x_encoded = sae_model.encode(x_trn)\n",
    "for cls in np.unique(c_trn):\n",
    "    idx = c_trn == cls\n",
    "    plt.scatter(x_encoded[idx,0], x_encoded[idx,1], , l=c_trn)"
   ]
  },
  {
   "cell_type": "code",
   "execution_count": 86,
   "metadata": {
    "collapsed": false
   },
   "outputs": [
    {
     "data": {
      "text/plain": [
       "array([[ -4.33554410e-17,   4.91021454e-01,   7.82728863e+00,\n",
       "          1.39708529e+01,   1.21592112e+01,   6.40324879e+00,\n",
       "          1.24622583e+00,   3.95416617e-02],\n",
       "       [  9.69002768e-03,   3.44364142e+00,   1.36684780e+01,\n",
       "          1.04602165e+01,   1.04044666e+01,   9.95282269e+00,\n",
       "          1.71264386e+00,   1.65730417e-02],\n",
       "       [  3.76095646e-03,   3.72234964e+00,   9.66547871e+00,\n",
       "          4.33875751e+00,   8.39392281e+00,   9.21160221e+00,\n",
       "          1.36576259e+00,  -7.40792602e-03],\n",
       "       [ -3.40835599e-04,   1.98395610e+00,   6.88030195e+00,\n",
       "          9.15192223e+00,   1.17890835e+01,   7.98579931e+00,\n",
       "          1.85596037e+00,  -1.19409524e-04],\n",
       "       [  1.13246406e-20,   8.27094555e-01,   4.17525578e+00,\n",
       "          7.41464138e+00,   8.98688126e+00,   8.64555836e+00,\n",
       "          3.11245918e+00,   4.54009064e-17],\n",
       "       [ -1.02991275e-02,   3.52230906e-01,   3.98467183e+00,\n",
       "          4.54387426e+00,   4.87682962e+00,   8.25675392e+00,\n",
       "          4.40838385e+00,   2.06649639e-02],\n",
       "       [ -5.31423278e-03,   6.27538979e-01,   8.44121075e+00,\n",
       "          8.64090919e+00,   7.83117199e+00,   1.02975273e+01,\n",
       "          4.65308523e+00,   1.72745585e-01],\n",
       "       [ -1.47659797e-03,   3.83685112e-01,   8.32959652e+00,\n",
       "          1.42606468e+01,   1.19344120e+01,   7.52975464e+00,\n",
       "          2.30068779e+00,   4.17205989e-01]], dtype=float32)"
      ]
     },
     "execution_count": 86,
     "metadata": {},
     "output_type": "execute_result"
    }
   ],
   "source": [
    "x_decoded = sae_model.decode(np.array([[0.1, -0.2]]))\n",
    "x_decoded.reshape((8,8))"
   ]
  },
  {
   "cell_type": "code",
   "execution_count": 87,
   "metadata": {
    "collapsed": false
   },
   "outputs": [
    {
     "data": {
      "text/plain": [
       "([], <a list of 0 Text yticklabel objects>)"
      ]
     },
     "execution_count": 87,
     "metadata": {},
     "output_type": "execute_result"
    },
    {
     "data": {
      "image/png": "[encoded data removed]",
      "text/plain": [
       "<matplotlib.figure.Figure at 0x1357bf6d8>"
      ]
     },
     "metadata": {},
     "output_type": "display_data"
    }
   ],
   "source": [
    "x_decoded = sae_model.decode(np.array([[0.1, -0.2]])).reshape((1, 8,8))\n",
    "\n",
    "plt.imshow(x_decoded[0], cmap=plt.cm.gray_r, interpolation='nearest')\n",
    "#plt.title('Label: %i'%(data.target_names[data.target[irnd]]))\n",
    "plt.xticks([])\n",
    "plt.yticks([])"
   ]
  },
  {
   "cell_type": "code",
   "execution_count": null,
   "metadata": {
    "collapsed": true
   },
   "outputs": [],
   "source": [
    "x_decoded = sae_model.decode([[]])"
   ]
  },
  {
   "cell_type": "code",
   "execution_count": null,
   "metadata": {
    "collapsed": true
   },
   "outputs": [],
   "source": []
  },
  {
   "cell_type": "code",
   "execution_count": null,
   "metadata": {
    "collapsed": true
   },
   "outputs": [],
   "source": []
  },
  {
   "cell_type": "code",
   "execution_count": null,
   "metadata": {
    "collapsed": true
   },
   "outputs": [],
   "source": []
  },
  {
   "cell_type": "code",
   "execution_count": null,
   "metadata": {
    "collapsed": true
   },
   "outputs": [],
   "source": []
  },
  {
   "cell_type": "code",
   "execution_count": null,
   "metadata": {
    "collapsed": true
   },
   "outputs": [],
   "source": []
  }
 ],
 "metadata": {
  "kernelspec": {
   "display_name": "Python 3",
   "language": "python",
   "name": "python3"
  },
  "language_info": {
   "codemirror_mode": {
    "name": "ipython",
    "version": 3
   },
   "file_extension": ".py",
   "mimetype": "text/x-python",
   "name": "python",
   "nbconvert_exporter": "python",
   "pygments_lexer": "ipython3",
   "version": "3.5.1"
  }
 },
 "nbformat": 4,
 "nbformat_minor": 0
}
